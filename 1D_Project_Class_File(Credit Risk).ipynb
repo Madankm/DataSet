{
  "nbformat": 4,
  "nbformat_minor": 0,
  "metadata": {
    "colab": {
      "provenance": [],
      "toc_visible": true,
      "include_colab_link": true
    },
    "kernelspec": {
      "name": "python3",
      "display_name": "Python 3"
    },
    "language_info": {
      "name": "python"
    }
  },
  "cells": [
    {
      "cell_type": "markdown",
      "metadata": {
        "id": "view-in-github",
        "colab_type": "text"
      },
      "source": [
        "<a href=\"https://colab.research.google.com/github/Madankm/DataSet/blob/main/1D_Project_Class_File(Credit%20Risk).ipynb\" target=\"_parent\"><img src=\"https://colab.research.google.com/assets/colab-badge.svg\" alt=\"Open In Colab\"/></a>"
      ]
    },
    {
      "cell_type": "code",
      "execution_count": null,
      "metadata": {
        "id": "lb4UgndDq7YF"
      },
      "outputs": [],
      "source": [
        "# Importing dataset\n",
        "import pandas as pd\n",
        "cred_data=pd.read_csv('https://raw.githubusercontent.com/DIBSMASH/DIBYA-PROJECT/main/UCI_Credit_Card.csv')"
      ]
    },
    {
      "cell_type": "markdown",
      "source": [
        "# Data Cleaning"
      ],
      "metadata": {
        "id": "W6raBSHLrvku"
      }
    },
    {
      "cell_type": "markdown",
      "source": [
        "## Step-1 ; Basic Summary\n"
      ],
      "metadata": {
        "id": "dDIbaStyrEr7"
      }
    },
    {
      "cell_type": "code",
      "source": [
        "print(cred_data.shape)\n",
        "print(cred_data.info())\n",
        "print(cred_data.head())"
      ],
      "metadata": {
        "id": "OS1NuVF6rAgX"
      },
      "execution_count": null,
      "outputs": []
    },
    {
      "cell_type": "markdown",
      "source": [
        "### Divide the vars"
      ],
      "metadata": {
        "id": "Fg87SjT4r6GN"
      }
    },
    {
      "cell_type": "code",
      "source": [
        "print(cred_data.columns)"
      ],
      "metadata": {
        "id": "uE8OKyD5r-zG"
      },
      "execution_count": null,
      "outputs": []
    },
    {
      "cell_type": "markdown",
      "source": [
        "\n",
        "\n",
        "*   Categorical - SEX, EDUCATION, MARRIAGE,  'default.payment.next.month'\n",
        "*   Discrete - AGE, 'PAY_0','PAY_2', 'PAY_3', 'PAY_4', 'PAY_5', 'PAY_6'\n",
        "*   Continuous - LIMIT_BAL, AGE, 'BILL_AMT1', 'BILL_AMT2','BILL_AMT3', 'BILL_AMT4', 'BILL_AMT5', 'BILL_AMT6', 'PAY_AMT1','PAY_AMT2', 'PAY_AMT3', 'PAY_AMT4', 'PAY_AMT5', 'PAY_AMT6'\n",
        "\n"
      ],
      "metadata": {
        "id": "7S2i8B7EsBxo"
      }
    },
    {
      "cell_type": "markdown",
      "source": [
        "## Step-2: Categorical variables Exploration and validation"
      ],
      "metadata": {
        "id": "YEISaGGqrrKu"
      }
    },
    {
      "cell_type": "code",
      "source": [
        "cred_data['SEX'].value_counts()"
      ],
      "metadata": {
        "id": "jg0Qwv4NrM-m"
      },
      "execution_count": null,
      "outputs": []
    },
    {
      "cell_type": "markdown",
      "source": [
        "There more female customers in the data"
      ],
      "metadata": {
        "id": "w3GUyM9qsz1D"
      }
    },
    {
      "cell_type": "code",
      "source": [
        "cred_data['EDUCATION'].value_counts()"
      ],
      "metadata": {
        "id": "-Z6mwycfsy0z"
      },
      "execution_count": null,
      "outputs": []
    },
    {
      "cell_type": "code",
      "source": [
        "cred_data['default.payment.next.month'].value_counts()"
      ],
      "metadata": {
        "id": "wljQh0vWtmSD"
      },
      "execution_count": null,
      "outputs": []
    },
    {
      "cell_type": "markdown",
      "source": [
        "## Step3:Continuous Variables Exploration and Validation"
      ],
      "metadata": {
        "id": "iCSlirEsuCQ3"
      }
    },
    {
      "cell_type": "code",
      "source": [
        "'''\n",
        "Index(['ID', 'LIMIT_BAL', 'SEX', 'EDUCATION', 'MARRIAGE', 'AGE', 'PAY_0',\n",
        "       'PAY_2', 'PAY_3', 'PAY_4', 'PAY_5', 'PAY_6', 'BILL_AMT1', 'BILL_AMT2',\n",
        "       'BILL_AMT3', 'BILL_AMT4', 'BILL_AMT5', 'BILL_AMT6', 'PAY_AMT1',\n",
        "       'PAY_AMT2', 'PAY_AMT3', 'PAY_AMT4', 'PAY_AMT5', 'PAY_AMT6',\n",
        "       'default.payment.next.month'],\n",
        "      dtype='object')"
      ],
      "metadata": {
        "id": "MpHb1MZCuO-R"
      },
      "execution_count": null,
      "outputs": []
    },
    {
      "cell_type": "code",
      "source": [
        "cred_data[\"LIMIT_BAL\"].quantile([0,0.1,0.2,0.3,0.4,0.5,0.6,0.7,0.8,0.9,1])"
      ],
      "metadata": {
        "id": "kPUdBjwJuI92"
      },
      "execution_count": null,
      "outputs": []
    },
    {
      "cell_type": "code",
      "source": [
        "cred_data[\"LIMIT_BAL\"].quantile([0.9,0.91,0.92,0.93,0.94,0.95,0.96,0.97,0.98,0.99,1])"
      ],
      "metadata": {
        "id": "d_0u6jiXuoSl"
      },
      "execution_count": null,
      "outputs": []
    },
    {
      "cell_type": "markdown",
      "source": [
        "1% of the data is having outliers in LIMIT_BAL"
      ],
      "metadata": {
        "id": "HGeJblyhvNxt"
      }
    },
    {
      "cell_type": "code",
      "source": [
        "cred_data[\"BILL_AMT1\"].describe()"
      ],
      "metadata": {
        "id": "QQsWShaLygf8"
      },
      "execution_count": null,
      "outputs": []
    },
    {
      "cell_type": "code",
      "source": [
        "cred_data[\"BILL_AMT1\"].quantile([0,0.1,0.2,0.3,0.4,0.5,0.6,0.7,0.8,0.9,1])"
      ],
      "metadata": {
        "id": "8NOONM_fvHBA"
      },
      "execution_count": null,
      "outputs": []
    },
    {
      "cell_type": "code",
      "source": [
        "cred_data[\"BILL_AMT1\"].quantile([0,0.01,0.02,0.03,0.04,0.05,0.06,0.07,0.08,0.09,1])"
      ],
      "metadata": {
        "id": "DFPDsjJ2yrTO"
      },
      "execution_count": null,
      "outputs": []
    },
    {
      "cell_type": "markdown",
      "source": [
        "2% of the BILL_AMT1 are low side outliers"
      ],
      "metadata": {
        "id": "_8iS7ZlwzNMj"
      }
    },
    {
      "cell_type": "code",
      "source": [
        "cred_data[\"BILL_AMT1\"].quantile([0.85, 0.86, 0.87, 0.88, 0.89, 0.9,0.91,0.92,0.93,0.94,0.95,0.96,0.97,0.98,0.99,1])"
      ],
      "metadata": {
        "id": "y4C22gWZzFn3"
      },
      "execution_count": null,
      "outputs": []
    },
    {
      "cell_type": "markdown",
      "source": [
        "2% of the BILL_AMT1 are low side outliers\n",
        "and\n",
        "1% of the BILL_AMT1 are high side outliers"
      ],
      "metadata": {
        "id": "6YGfNsdSz5b9"
      }
    },
    {
      "cell_type": "markdown",
      "source": [
        "BILL_AMT6"
      ],
      "metadata": {
        "id": "W_-ZmhCs0xCB"
      }
    },
    {
      "cell_type": "code",
      "source": [
        "#PAY_AMT1\n",
        "\n",
        "cred_data[\"PAY_AMT1\"].quantile([0,0.1,0.2,0.3,0.4,0.5,0.6,0.7,0.8,0.9,1])"
      ],
      "metadata": {
        "id": "Gzfx0lLrzmam"
      },
      "execution_count": null,
      "outputs": []
    },
    {
      "cell_type": "code",
      "source": [
        "cred_data[\"PAY_AMT1\"].quantile([0.9,0.91,0.92,0.93,0.94,0.95,0.96,0.97,0.98,0.99,1])"
      ],
      "metadata": {
        "id": "tB4QSZij1Mvc"
      },
      "execution_count": null,
      "outputs": []
    },
    {
      "cell_type": "markdown",
      "source": [
        "## Step4- Cleaning"
      ],
      "metadata": {
        "id": "VmA2vZJ22Bmq"
      }
    },
    {
      "cell_type": "markdown",
      "source": [
        "2% of the BILL_AMT1 are low side outliers\n",
        "and\n",
        "1% of the BILL_AMT1 are high side outliers"
      ],
      "metadata": {
        "id": "9Sd3oCwX2MZb"
      }
    },
    {
      "cell_type": "code",
      "source": [
        "cred_data[\"BILL_AMT1_Cleaned\"]=cred_data[\"BILL_AMT1\"]\n",
        "#Cleaning lowside outliers\n",
        "cred_data[\"BILL_AMT1_Cleaned\"][cred_data[\"BILL_AMT1\"]<0]=cred_data[\"BILL_AMT1\"].median()"
      ],
      "metadata": {
        "id": "GugOFSe_2Dly"
      },
      "execution_count": null,
      "outputs": []
    },
    {
      "cell_type": "code",
      "source": [
        "#Cleaning Highside outliers\n",
        "cred_data[\"BILL_AMT1_Cleaned\"][cred_data[\"BILL_AMT1\"]>350000]=350000"
      ],
      "metadata": {
        "id": "0TLFwdKr3TmG"
      },
      "execution_count": null,
      "outputs": []
    },
    {
      "cell_type": "code",
      "source": [
        "cred_data[\"BILL_AMT1_Cleaned\"].quantile([0,0.1,0.2,0.3,0.4,0.5,0.6,0.7,0.8,0.9,1])"
      ],
      "metadata": {
        "id": "20h9ibQD25tC"
      },
      "execution_count": null,
      "outputs": []
    },
    {
      "cell_type": "markdown",
      "source": [
        "# Final Cleaned Data"
      ],
      "metadata": {
        "id": "UIsyaTRmAvwD"
      }
    },
    {
      "cell_type": "markdown",
      "source": [
        "https://raw.githubusercontent.com/venkatareddykonasani/Datasets/master/1D_Project_Data/1D_cc_data_cleaned.csv"
      ],
      "metadata": {
        "id": "haYEllI7AQZ0"
      }
    },
    {
      "cell_type": "code",
      "source": [
        "cc_final=pd.read_csv('https://raw.githubusercontent.com/venkatareddykonasani/Datasets/master/1D_Project_Data/1D_cc_data_cleaned.csv')"
      ],
      "metadata": {
        "id": "80ce0LV8AtFO"
      },
      "execution_count": null,
      "outputs": []
    },
    {
      "cell_type": "code",
      "source": [
        "cc_final.columns\n",
        "cc_final=cc_final.drop(['Unnamed: 0', 'ID'], axis=1)"
      ],
      "metadata": {
        "id": "06fsK1QUA47B"
      },
      "execution_count": null,
      "outputs": []
    },
    {
      "cell_type": "markdown",
      "source": [
        "# Model Building"
      ],
      "metadata": {
        "id": "2qYZRvzpB1mf"
      }
    },
    {
      "cell_type": "markdown",
      "source": [
        "## Train Test Splitting"
      ],
      "metadata": {
        "id": "6Ja9mTv9B4n8"
      }
    },
    {
      "cell_type": "code",
      "source": [
        "import sklearn\n",
        "from sklearn.model_selection import train_test_split\n",
        "\n",
        "train,test=train_test_split(cc_final,test_size=0.2,random_state=42)\n",
        "\n",
        "print(train.shape)\n",
        "print(test.shape)"
      ],
      "metadata": {
        "id": "ovIfOl4yA8jh"
      },
      "execution_count": null,
      "outputs": []
    },
    {
      "cell_type": "markdown",
      "source": [
        "## Model Building"
      ],
      "metadata": {
        "id": "_67lIGMdEejx"
      }
    },
    {
      "cell_type": "code",
      "source": [
        "from sklearn.linear_model import LogisticRegression\n",
        "model=LogisticRegression(max_iter=1000)\n",
        "model.fit(train.drop('DEFPAY',axis=1),train['DEFPAY'])\n",
        "print(model.coef_)\n",
        "print(model.intercept_)"
      ],
      "metadata": {
        "id": "I5j2zkGECRfG"
      },
      "execution_count": null,
      "outputs": []
    },
    {
      "cell_type": "markdown",
      "source": [
        "## Model Validation"
      ],
      "metadata": {
        "id": "Q3VVBarGGOvf"
      }
    },
    {
      "cell_type": "code",
      "source": [
        "from sklearn.metrics import accuracy_score,confusion_matrix,classification_report\n",
        "\n",
        "y_pred_train=model.predict(train.drop('DEFPAY',axis=1))\n",
        "y_pred_test=model.predict(test.drop('DEFPAY',axis=1))\n",
        "\n",
        "#Confusion Matrix\n",
        "print(\"Train\\n\", confusion_matrix(train['DEFPAY'],y_pred_train))\n",
        "print(\"Test\\n\", confusion_matrix(test['DEFPAY'],y_pred_test))\n",
        "\n",
        "#Accuracy Score\n",
        "print(accuracy_score(train['DEFPAY'],y_pred_train))\n",
        "print(accuracy_score(test['DEFPAY'],y_pred_test))"
      ],
      "metadata": {
        "id": "JwHytD9KGDaD"
      },
      "execution_count": null,
      "outputs": []
    },
    {
      "cell_type": "markdown",
      "source": [
        "Accuracy is 77% but the class that we are interested is Class-1; In that class the accuracy is less than 1%. This problem is known as Class- Imbalance. This needs to be addressed later"
      ],
      "metadata": {
        "id": "rETruAUpIj-m"
      }
    },
    {
      "cell_type": "markdown",
      "source": [
        "## Feature Selection"
      ],
      "metadata": {
        "id": "PD8v8tsUJN_H"
      }
    },
    {
      "cell_type": "code",
      "source": [
        "#VIF\n",
        "import statsmodels.api as sm\n",
        "def vif_calc(X):\n",
        "    columns=X.columns\n",
        "    for i in range(0,len(X.columns)):\n",
        "      y=X[columns[i]]\n",
        "      x=X.drop(columns[i],axis=1)\n",
        "      r_squared=sm.OLS(y,x).fit().rsquared\n",
        "      vif=round(1/(1-r_squared),2)\n",
        "      print(columns[i],\":\",vif)"
      ],
      "metadata": {
        "id": "1BPbHg0SGdFI"
      },
      "execution_count": null,
      "outputs": []
    },
    {
      "cell_type": "code",
      "source": [
        "vif_calc(train.drop('DEFPAY',axis=1))"
      ],
      "metadata": {
        "id": "gd0vDQlbKc9b"
      },
      "execution_count": null,
      "outputs": []
    },
    {
      "cell_type": "code",
      "source": [
        "vif_calc(train.drop(['DEFPAY','PAY_5_Clean','BILL_AMT2_Clean','BILL_AMT5_Clean','BILL_AMT3_Clean','BILL_AMT4_Clean','SEX','EDUCATION_Clean','AGE'],axis=1))"
      ],
      "metadata": {
        "id": "zb62Bsp9MGb0"
      },
      "execution_count": null,
      "outputs": []
    },
    {
      "cell_type": "code",
      "source": [
        "vif_drop_list=['DEFPAY','PAY_5_Clean','BILL_AMT2_Clean','BILL_AMT5_Clean','BILL_AMT3_Clean','BILL_AMT4_Clean']"
      ],
      "metadata": {
        "id": "psERw5DOM2PE"
      },
      "execution_count": null,
      "outputs": []
    },
    {
      "cell_type": "code",
      "source": [
        "#P-Value\n",
        "train_after_vif=train.drop(vif_drop_list,axis=1)\n",
        "\n",
        "import statsmodels.api as sm\n",
        "model=sm.Logit(train['DEFPAY'],train_after_vif).fit()\n",
        "print(model.summary())"
      ],
      "metadata": {
        "id": "cyjIge1JJTH3"
      },
      "execution_count": null,
      "outputs": []
    },
    {
      "cell_type": "code",
      "source": [
        "model=sm.Logit(train['DEFPAY'],train_after_vif.drop([\"PAY_2_Clean\"], axis=1)).fit()\n",
        "print(model.summary())"
      ],
      "metadata": {
        "id": "GFd8iZhKNEwb"
      },
      "execution_count": null,
      "outputs": []
    },
    {
      "cell_type": "code",
      "source": [
        "vif_drop_list=['DEFPAY','PAY_5_Clean','BILL_AMT2_Clean','BILL_AMT5_Clean','BILL_AMT3_Clean','BILL_AMT4_Clean','SEX','EDUCATION_Clean','AGE']\n",
        "p_vaues_drop_list=['PAY_2_Clean']\n"
      ],
      "metadata": {
        "id": "jxY85bKGNi22"
      },
      "execution_count": null,
      "outputs": []
    },
    {
      "cell_type": "code",
      "source": [
        "#final model after variable selection\n",
        "train_after_vif_pval=train_after_vif.drop(p_vaues_drop_list,axis=1)\n",
        "\n",
        "model=sm.Logit(train['DEFPAY'],train_after_vif_pval).fit()\n",
        "print(model.summary())"
      ],
      "metadata": {
        "id": "Lkv-LPvhN4hq"
      },
      "execution_count": null,
      "outputs": []
    },
    {
      "cell_type": "markdown",
      "source": [
        "# Model Validation and Class Imbalace Handling"
      ],
      "metadata": {
        "id": "BfkrgJLSx_fO"
      }
    },
    {
      "cell_type": "code",
      "source": [
        "train.columns"
      ],
      "metadata": {
        "id": "F8WP1vuzynGY"
      },
      "execution_count": null,
      "outputs": []
    },
    {
      "cell_type": "code",
      "source": [
        "train"
      ],
      "metadata": {
        "id": "8zlvgOdHyzX-"
      },
      "execution_count": null,
      "outputs": []
    },
    {
      "cell_type": "code",
      "source": [
        "train_vif_pval.columns"
      ],
      "metadata": {
        "id": "8RB78XlLy9e2"
      },
      "execution_count": null,
      "outputs": []
    },
    {
      "cell_type": "code",
      "source": [
        "vif_drop_list=['DEFPAY','PAY_5_Clean','BILL_AMT2_Clean','BILL_AMT5_Clean','BILL_AMT3_Clean','BILL_AMT4_Clean']\n",
        "p_vaues_drop_list=['PAY_2_Clean']\n",
        "\n",
        "train_vif_pval=train.drop(vif_drop_list,axis=1)\n",
        "train_vif_pval=train_vif_pval.drop(p_vaues_drop_list,axis=1)\n",
        "\n",
        "model = LogisticRegression(max_iter=1000)\n",
        "model.fit(train_vif_pval,train['DEFPAY'])\n",
        "\n",
        "#Confusion matrix\n",
        "y_pred_train=model.predict(train_vif_pval)\n",
        "print(confusion_matrix(train['DEFPAY'],y_pred_train))\n",
        "\n",
        "y_pred_test=model.predict(test.drop(vif_drop_list,axis=1).drop(p_vaues_drop_list,axis=1))\n",
        "print(confusion_matrix(test['DEFPAY'],y_pred_test))\n",
        "\n",
        "#Accuracy Score\n",
        "print(accuracy_score(train['DEFPAY'],y_pred_train))\n",
        "print(accuracy_score(test['DEFPAY'],y_pred_test))\n",
        "\n"
      ],
      "metadata": {
        "id": "fi0iGfjVOLCz"
      },
      "execution_count": null,
      "outputs": []
    },
    {
      "cell_type": "code",
      "source": [
        "cm_train=confusion_matrix(train['DEFPAY'],y_pred_train)\n",
        "cm_train"
      ],
      "metadata": {
        "id": "a35m94QxykyV"
      },
      "execution_count": null,
      "outputs": []
    },
    {
      "cell_type": "code",
      "source": [
        "sensitivity = cm_train[0,0] /(cm_train[0,0]+cm_train[0,1])\n",
        "sensitivity"
      ],
      "metadata": {
        "id": "PRaMT4Hw2sSm"
      },
      "execution_count": null,
      "outputs": []
    },
    {
      "cell_type": "code",
      "source": [
        "specificity =  cm_train[1,1]  /(cm_train[1,0]+cm_train[1,1])\n",
        "specificity"
      ],
      "metadata": {
        "id": "g3Kh8qas3B_K"
      },
      "execution_count": null,
      "outputs": []
    },
    {
      "cell_type": "markdown",
      "source": [
        "The class that is veru important in our problem statement is class-1; So Specificity is very important for us. We have to perform class imbalance handling techniques to improve specificity\n",
        "\n"
      ],
      "metadata": {
        "id": "JBTR9gIj3Ots"
      }
    },
    {
      "cell_type": "markdown",
      "source": [
        "## Over Sampling and Under Sampling"
      ],
      "metadata": {
        "id": "U4bdOGOS4uAy"
      }
    },
    {
      "cell_type": "code",
      "source": [
        "train_vif_pval.info()"
      ],
      "metadata": {
        "id": "-6IQvgIC2nkL"
      },
      "execution_count": null,
      "outputs": []
    },
    {
      "cell_type": "code",
      "source": [
        "train[\"DEFPAY\"].value_counts()"
      ],
      "metadata": {
        "id": "CHz-mA0w49uj"
      },
      "execution_count": null,
      "outputs": []
    },
    {
      "cell_type": "code",
      "source": [
        "#Attching DEF_PAY from train data\n",
        "train_vif_pval_v1=train_vif_pval\n",
        "train_vif_pval_v1[\"DEFPAY\"]=train[\"DEFPAY\"]"
      ],
      "metadata": {
        "id": "ePEo2_rG5RlG"
      },
      "execution_count": null,
      "outputs": []
    },
    {
      "cell_type": "code",
      "source": [
        "train_vif_pval_v1.info()"
      ],
      "metadata": {
        "id": "kBZIz2R-5dss"
      },
      "execution_count": null,
      "outputs": []
    },
    {
      "cell_type": "code",
      "source": [
        "len(train_vif_pval_v1[condition1])"
      ],
      "metadata": {
        "id": "2OXSL9Yq6XH8"
      },
      "execution_count": null,
      "outputs": []
    },
    {
      "cell_type": "code",
      "source": [
        "#OverSampling of Class1\n",
        "condition1=train_vif_pval_v1[\"DEFPAY\"]==1\n",
        "oversample_train_data=train_vif_pval_v1[condition1].sample(n=7500,random_state=42,replace=True)\n",
        "\n",
        "oversample_train_data.shape\n",
        "oversample_train_data[\"DEFPAY\"].value_counts()"
      ],
      "metadata": {
        "id": "dKOArioA5wHw"
      },
      "execution_count": null,
      "outputs": []
    },
    {
      "cell_type": "code",
      "source": [
        "#UnderSampling of Class0\n",
        "\n",
        "condition0=train_vif_pval_v1[\"DEFPAY\"]==0\n",
        "undersample_train_data=train_vif_pval_v1[condition0].sample(n=13000,random_state=42,replace=True)\n",
        "\n",
        "undersample_train_data.shape\n",
        "undersample_train_data[\"DEFPAY\"].value_counts()"
      ],
      "metadata": {
        "id": "TPYOihKu61dk"
      },
      "execution_count": null,
      "outputs": []
    },
    {
      "cell_type": "code",
      "source": [
        "train_bal=pd.concat([oversample_train_data,undersample_train_data])"
      ],
      "metadata": {
        "id": "aStLhxrt7EgO"
      },
      "execution_count": null,
      "outputs": []
    },
    {
      "cell_type": "code",
      "source": [
        "train_bal['DEFPAY'].value_counts()"
      ],
      "metadata": {
        "id": "ef9I-NCk7JAO"
      },
      "execution_count": null,
      "outputs": []
    },
    {
      "cell_type": "code",
      "source": [
        "train_bal.info()"
      ],
      "metadata": {
        "colab": {
          "base_uri": "https://localhost:8080/"
        },
        "id": "otJIGzng8bR1",
        "outputId": "28132c8a-d24b-43be-da34-2ff627b72c83"
      },
      "execution_count": null,
      "outputs": [
        {
          "output_type": "stream",
          "name": "stdout",
          "text": [
            "<class 'pandas.core.frame.DataFrame'>\n",
            "Index: 20500 entries, 21580 to 27806\n",
            "Data columns (total 18 columns):\n",
            " #   Column           Non-Null Count  Dtype  \n",
            "---  ------           --------------  -----  \n",
            " 0   LIMIT_BAL_Clean  20500 non-null  float64\n",
            " 1   SEX              20500 non-null  int64  \n",
            " 2   EDUCATION_Clean  20500 non-null  int64  \n",
            " 3   MARRIAGE_Clean   20500 non-null  int64  \n",
            " 4   AGE              20500 non-null  int64  \n",
            " 5   PAY_0_Clean      20500 non-null  int64  \n",
            " 6   PAY_3_Clean      20500 non-null  int64  \n",
            " 7   PAY_4_Clean      20500 non-null  int64  \n",
            " 8   PAY_6_Clean      20500 non-null  int64  \n",
            " 9   BILL_AMT1_Clean  20500 non-null  float64\n",
            " 10  BILL_AMT6_Clean  20500 non-null  float64\n",
            " 11  PAY_AMT1_Clean   20500 non-null  float64\n",
            " 12  PAY_AMT2_Clean   20500 non-null  float64\n",
            " 13  PAY_AMT3_Clean   20500 non-null  float64\n",
            " 14  PAY_AMT4_Clean   20500 non-null  float64\n",
            " 15  PAY_AMT5_Clean   20500 non-null  float64\n",
            " 16  PAY_AMT6_Clean   20500 non-null  float64\n",
            " 17  DEFPAY           20500 non-null  int64  \n",
            "dtypes: float64(9), int64(9)\n",
            "memory usage: 3.0 MB\n"
          ]
        }
      ]
    },
    {
      "cell_type": "markdown",
      "source": [
        "## Building the model after Over-Under Sampling"
      ],
      "metadata": {
        "id": "-n1dFyeq-CJj"
      }
    },
    {
      "cell_type": "code",
      "source": [
        "model=LogisticRegression(max_iter=1000)\n",
        "model.fit(train_bal.drop('DEFPAY',axis=1),train_bal['DEFPAY'])\n",
        "\n",
        "#Confusion matrix and Accuracy\n",
        "y_pred_train=model.predict(train_bal.drop('DEFPAY',axis=1))\n",
        "cm=confusion_matrix(train_bal['DEFPAY'],y_pred_train)\n",
        "print(cm)\n",
        "print(\"accuracy\", accuracy_score(train_bal['DEFPAY'],y_pred_train))\n",
        "\n",
        "sensitivity=cm[0,0]/(cm[0,0]+cm[0,1])\n",
        "specificity=cm[1,1]/(cm[1,0]+cm[1,1])\n",
        "print(\"sensitivity\", sensitivity)\n",
        "print(\"specificity\", specificity)"
      ],
      "metadata": {
        "colab": {
          "base_uri": "https://localhost:8080/"
        },
        "id": "DB4wVJzB8cSZ",
        "outputId": "4cfbcc54-5c36-42e1-cbf6-e449aaa5be13"
      },
      "execution_count": null,
      "outputs": [
        {
          "output_type": "stream",
          "name": "stdout",
          "text": [
            "[[12952    48]\n",
            " [ 7428    72]]\n",
            "accuracy 0.6353170731707317\n",
            "sensitivity 0.9963076923076923\n",
            "specificity 0.0096\n"
          ]
        }
      ]
    },
    {
      "cell_type": "markdown",
      "source": [
        "## Rebalance Iterations"
      ],
      "metadata": {
        "id": "dEpc1PcE-wrX"
      }
    },
    {
      "cell_type": "code",
      "source": [
        "#OverSampling of Class1\n",
        "condition1=train_vif_pval_v1[\"DEFPAY\"]==1\n",
        "oversample_train_data=train_vif_pval_v1[condition1].sample(n=12000,random_state=42,replace=True)\n",
        "\n",
        "oversample_train_data.shape\n",
        "oversample_train_data[\"DEFPAY\"].value_counts()\n",
        "\n",
        "#UnderSampling of Class0\n",
        "\n",
        "condition0=train_vif_pval_v1[\"DEFPAY\"]==0\n",
        "undersample_train_data=train_vif_pval_v1[condition0].sample(n=10000,random_state=42,replace=True)\n",
        "\n",
        "undersample_train_data.shape\n",
        "undersample_train_data[\"DEFPAY\"].value_counts()\n",
        "\n",
        "model=LogisticRegression(max_iter=1000)\n",
        "model.fit(train_bal.drop('DEFPAY',axis=1),train_bal['DEFPAY'])\n",
        "\n",
        "#Bal Data\n",
        "train_bal=pd.concat([oversample_train_data,undersample_train_data])\n",
        "\n",
        "#Confusion matrix and Accuracy\n",
        "y_pred_train=model.predict(train_bal.drop('DEFPAY',axis=1))\n",
        "cm=confusion_matrix(train_bal['DEFPAY'],y_pred_train)\n",
        "print(cm)\n",
        "print(\"accuracy\", accuracy_score(train_bal['DEFPAY'],y_pred_train))\n",
        "\n",
        "sensitivity=cm[0,0]/(cm[0,0]+cm[0,1])\n",
        "specificity=cm[1,1]/(cm[1,0]+cm[1,1])\n",
        "print(\"sensitivity\", sensitivity)\n",
        "print(\"specificity\", specificity)"
      ],
      "metadata": {
        "colab": {
          "base_uri": "https://localhost:8080/"
        },
        "id": "3dnDRh8x-mPZ",
        "outputId": "e5427d7a-ccd3-420d-8004-7f6e0587cecf"
      },
      "execution_count": null,
      "outputs": [
        {
          "output_type": "stream",
          "name": "stdout",
          "text": [
            "[[5105 4895]\n",
            " [3320 8680]]\n",
            "accuracy 0.6265909090909091\n",
            "sensitivity 0.5105\n",
            "specificity 0.7233333333333334\n"
          ]
        }
      ]
    },
    {
      "cell_type": "markdown",
      "source": [
        "#SMOTE Technique\n"
      ],
      "metadata": {
        "id": "0d_NbNUjCPI_"
      }
    },
    {
      "cell_type": "code",
      "source": [
        "# Smote\n",
        "from imblearn.over_sampling import SMOTE\n",
        "smote=SMOTE(random_state=42)\n",
        "X_smote,y_smote=smote.fit_resample(train.drop('DEFPAY',axis=1),train['DEFPAY'])\n",
        "\n",
        "model=LogisticRegression(max_iter=1000)\n",
        "model.fit(X_smote,y_smote)\n",
        "\n",
        "#Confusion matrix and Accuracy\n",
        "y_pred_train=model.predict(X_smote)\n",
        "cm=confusion_matrix(y_smote,y_pred_train)\n",
        "print(cm)\n",
        "print(\"accuracy\", accuracy_score(y_smote,y_pred_train))\n",
        "\n",
        "sensitivity=cm[0,0]/(cm[0,0]+cm[0,1])\n",
        "specificity=cm[1,1]/(cm[1,0]+cm[1,1])\n",
        "print(\"sensitivity\", sensitivity)\n",
        "print(\"specificity\", specificity)"
      ],
      "metadata": {
        "colab": {
          "base_uri": "https://localhost:8080/"
        },
        "id": "55W7Wmad-5T8",
        "outputId": "3fa10c2a-ae8b-4034-9479-113b7a37e445"
      },
      "execution_count": null,
      "outputs": [
        {
          "output_type": "stream",
          "name": "stdout",
          "text": [
            "[[ 9422  9255]\n",
            " [ 4708 13969]]\n",
            "accuracy 0.6261979975370777\n",
            "sensitivity 0.5044707394121112\n",
            "specificity 0.7479252556620443\n"
          ]
        }
      ]
    },
    {
      "cell_type": "markdown",
      "source": [
        "# Feature Engineering"
      ],
      "metadata": {
        "id": "ICcgvvFEEMOC"
      }
    },
    {
      "cell_type": "code",
      "source": [
        "train.info()"
      ],
      "metadata": {
        "colab": {
          "base_uri": "https://localhost:8080/"
        },
        "id": "tdEdg3BcC6oS",
        "outputId": "27e90e8b-1215-42a4-b6bd-798aa7f57c59"
      },
      "execution_count": null,
      "outputs": [
        {
          "output_type": "stream",
          "name": "stdout",
          "text": [
            "<class 'pandas.core.frame.DataFrame'>\n",
            "Index: 24000 entries, 21753 to 23654\n",
            "Data columns (total 24 columns):\n",
            " #   Column           Non-Null Count  Dtype  \n",
            "---  ------           --------------  -----  \n",
            " 0   LIMIT_BAL_Clean  24000 non-null  float64\n",
            " 1   SEX              24000 non-null  int64  \n",
            " 2   EDUCATION_Clean  24000 non-null  int64  \n",
            " 3   MARRIAGE_Clean   24000 non-null  int64  \n",
            " 4   AGE              24000 non-null  int64  \n",
            " 5   PAY_0_Clean      24000 non-null  int64  \n",
            " 6   PAY_2_Clean      24000 non-null  int64  \n",
            " 7   PAY_3_Clean      24000 non-null  int64  \n",
            " 8   PAY_4_Clean      24000 non-null  int64  \n",
            " 9   PAY_5_Clean      24000 non-null  int64  \n",
            " 10  PAY_6_Clean      24000 non-null  int64  \n",
            " 11  BILL_AMT1_Clean  24000 non-null  float64\n",
            " 12  BILL_AMT2_Clean  24000 non-null  float64\n",
            " 13  BILL_AMT3_Clean  24000 non-null  float64\n",
            " 14  BILL_AMT4_Clean  24000 non-null  float64\n",
            " 15  BILL_AMT5_Clean  24000 non-null  float64\n",
            " 16  BILL_AMT6_Clean  24000 non-null  float64\n",
            " 17  PAY_AMT1_Clean   24000 non-null  float64\n",
            " 18  PAY_AMT2_Clean   24000 non-null  float64\n",
            " 19  PAY_AMT3_Clean   24000 non-null  float64\n",
            " 20  PAY_AMT4_Clean   24000 non-null  float64\n",
            " 21  PAY_AMT5_Clean   24000 non-null  float64\n",
            " 22  PAY_AMT6_Clean   24000 non-null  float64\n",
            " 23  DEFPAY           24000 non-null  int64  \n",
            "dtypes: float64(13), int64(11)\n",
            "memory usage: 4.6 MB\n"
          ]
        }
      ]
    },
    {
      "cell_type": "code",
      "source": [
        "#Onehot encoding on EDUCATION_Clean and MARRIAGE_Clean\n",
        "train_final=pd.get_dummies(train,columns=['EDUCATION_Clean','MARRIAGE_Clean'])\n",
        "test_final=pd.get_dummies(test,columns=['EDUCATION_Clean','MARRIAGE_Clean'])"
      ],
      "metadata": {
        "id": "wV7ZoPjHEPem"
      },
      "execution_count": null,
      "outputs": []
    },
    {
      "cell_type": "code",
      "source": [
        "train_final.info()"
      ],
      "metadata": {
        "colab": {
          "base_uri": "https://localhost:8080/"
        },
        "id": "lWEWbC-nEX4q",
        "outputId": "90c9d2fb-9a9a-4124-c706-eaf50d525418"
      },
      "execution_count": null,
      "outputs": [
        {
          "output_type": "stream",
          "name": "stdout",
          "text": [
            "<class 'pandas.core.frame.DataFrame'>\n",
            "Index: 24000 entries, 21753 to 23654\n",
            "Data columns (total 29 columns):\n",
            " #   Column             Non-Null Count  Dtype  \n",
            "---  ------             --------------  -----  \n",
            " 0   LIMIT_BAL_Clean    24000 non-null  float64\n",
            " 1   SEX                24000 non-null  int64  \n",
            " 2   AGE                24000 non-null  int64  \n",
            " 3   PAY_0_Clean        24000 non-null  int64  \n",
            " 4   PAY_2_Clean        24000 non-null  int64  \n",
            " 5   PAY_3_Clean        24000 non-null  int64  \n",
            " 6   PAY_4_Clean        24000 non-null  int64  \n",
            " 7   PAY_5_Clean        24000 non-null  int64  \n",
            " 8   PAY_6_Clean        24000 non-null  int64  \n",
            " 9   BILL_AMT1_Clean    24000 non-null  float64\n",
            " 10  BILL_AMT2_Clean    24000 non-null  float64\n",
            " 11  BILL_AMT3_Clean    24000 non-null  float64\n",
            " 12  BILL_AMT4_Clean    24000 non-null  float64\n",
            " 13  BILL_AMT5_Clean    24000 non-null  float64\n",
            " 14  BILL_AMT6_Clean    24000 non-null  float64\n",
            " 15  PAY_AMT1_Clean     24000 non-null  float64\n",
            " 16  PAY_AMT2_Clean     24000 non-null  float64\n",
            " 17  PAY_AMT3_Clean     24000 non-null  float64\n",
            " 18  PAY_AMT4_Clean     24000 non-null  float64\n",
            " 19  PAY_AMT5_Clean     24000 non-null  float64\n",
            " 20  PAY_AMT6_Clean     24000 non-null  float64\n",
            " 21  DEFPAY             24000 non-null  int64  \n",
            " 22  EDUCATION_Clean_1  24000 non-null  bool   \n",
            " 23  EDUCATION_Clean_2  24000 non-null  bool   \n",
            " 24  EDUCATION_Clean_3  24000 non-null  bool   \n",
            " 25  EDUCATION_Clean_4  24000 non-null  bool   \n",
            " 26  MARRIAGE_Clean_1   24000 non-null  bool   \n",
            " 27  MARRIAGE_Clean_2   24000 non-null  bool   \n",
            " 28  MARRIAGE_Clean_3   24000 non-null  bool   \n",
            "dtypes: bool(7), float64(13), int64(9)\n",
            "memory usage: 4.4 MB\n"
          ]
        }
      ]
    },
    {
      "cell_type": "code",
      "source": [
        "# Smote\n",
        "from imblearn.over_sampling import SMOTE\n",
        "smote=SMOTE(random_state=42)\n",
        "X_smote,y_smote=smote.fit_resample(train_final.drop('DEFPAY',axis=1),train['DEFPAY'])\n",
        "\n",
        "model=LogisticRegression(max_iter=1000)\n",
        "model.fit(X_smote,y_smote)\n",
        "\n",
        "#Confusion matrix and Accuracy\n",
        "y_pred_train=model.predict(X_smote)\n",
        "cm=confusion_matrix(y_smote,y_pred_train)\n",
        "print(cm)\n",
        "print(\"accuracy\", accuracy_score(y_smote,y_pred_train))\n",
        "\n",
        "sensitivity=cm[0,0]/(cm[0,0]+cm[0,1])\n",
        "specificity=cm[1,1]/(cm[1,0]+cm[1,1])\n",
        "print(\"sensitivity\", sensitivity)\n",
        "print(\"specificity\", specificity)"
      ],
      "metadata": {
        "colab": {
          "base_uri": "https://localhost:8080/"
        },
        "id": "4VikH8HaExO3",
        "outputId": "72189198-fd3c-44de-a842-4201f53077d6"
      },
      "execution_count": null,
      "outputs": [
        {
          "output_type": "stream",
          "name": "stdout",
          "text": [
            "[[ 9422  9255]\n",
            " [ 4708 13969]]\n",
            "accuracy 0.6261979975370777\n",
            "sensitivity 0.5044707394121112\n",
            "specificity 0.7479252556620443\n"
          ]
        }
      ]
    }
  ]
}